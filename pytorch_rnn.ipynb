{
  "nbformat": 4,
  "nbformat_minor": 0,
  "metadata": {
    "colab": {
      "provenance": [],
      "gpuType": "T4",
      "authorship_tag": "ABX9TyMlbAm6YC1xeoPMmBefkI/7",
      "include_colab_link": true
    },
    "kernelspec": {
      "name": "python3",
      "display_name": "Python 3"
    },
    "language_info": {
      "name": "python"
    },
    "accelerator": "GPU"
  },
  "cells": [
    {
      "cell_type": "markdown",
      "metadata": {
        "id": "view-in-github",
        "colab_type": "text"
      },
      "source": [
        "<a href=\"https://colab.research.google.com/github/harsha361/pytorch_rnn/blob/main/pytorch_rnn.ipynb\" target=\"_parent\"><img src=\"https://colab.research.google.com/assets/colab-badge.svg\" alt=\"Open In Colab\"/></a>"
      ]
    },
    {
      "cell_type": "code",
      "execution_count": 1,
      "metadata": {
        "id": "262gMXBNGE-r"
      },
      "outputs": [],
      "source": [
        "import torch\n",
        "import torch.nn as nn\n",
        "import torchvision\n",
        "import torchvision.transforms as trasnforms\n"
      ]
    },
    {
      "cell_type": "code",
      "source": [
        "#device configuration\n",
        "device=torch.device('cuda'if torch.cuda.is_available() else 'cpu')\n",
        "device"
      ],
      "metadata": {
        "colab": {
          "base_uri": "https://localhost:8080/"
        },
        "id": "caJOnISDGoG6",
        "outputId": "aa0de604-3bc5-4891-9ca7-68acb4935a38"
      },
      "execution_count": 2,
      "outputs": [
        {
          "output_type": "execute_result",
          "data": {
            "text/plain": [
              "device(type='cuda')"
            ]
          },
          "metadata": {},
          "execution_count": 2
        }
      ]
    },
    {
      "cell_type": "code",
      "source": [
        "import torchvision\n",
        "import torchvision.transforms as transforms\n",
        "#hyper parameters\n",
        "sequence_length=28\n",
        "input_size=28\n",
        "hidden_size=128\n",
        "num_layers=2\n",
        "num_classes=10\n",
        "batch_size=100\n",
        "num_epochs=2\n",
        "learning_rate=0.01\n",
        "#MNIST dataset and data loader\n",
        "train_dataset=torchvision.datasets.MNIST(root='/content/sample_data',train=True,transform=transforms.ToTensor(),\n",
        "                                         download=True)\n",
        "test_dataset=torchvision.datasets.MNIST(root='/content/sample_data',train=False,transform=transforms.ToTensor())\n",
        "\n",
        "#dataloader\n",
        "train_dataloader=torch.utils.data.DataLoader(dataset=train_dataset,batch_size=batch_size,shuffle=True)\n",
        "test_dataloader=torch.utils.data.DataLoader(dataset=test_dataset,batch_size=batch_size,shuffle=True)\n"
      ],
      "metadata": {
        "id": "Bsh0HWUmHb2h"
      },
      "execution_count": 3,
      "outputs": []
    },
    {
      "cell_type": "code",
      "source": [
        "#recurrent neural network(many to one)\n",
        "class RNN(nn.Module):\n",
        "\n",
        "  def __init__(self,input_size,hidden_size,num_layers,num_classes):\n",
        "    super(RNN, self).__init__()\n",
        "    self.hidden_size=hidden_size\n",
        "    self.num_layers=num_layers\n",
        "    self.lstm=nn.LSTM(input_size,hidden_size,num_layers,batch_first=True)\n",
        "    self.fc=nn.Linear(hidden_size,num_classes)\n",
        "  def forward(self,x):\n",
        "    #setting intial and hidden cell states\n",
        "    h0=torch.zeros(self.num_layers,x.size(0),self.hidden_size).to(device)\n",
        "    c0=torch.zeros(self.num_layers,x.size(0),self.hidden_size).to(device)\n",
        "    #forward propagation lstm\n",
        "    out,_=self.lstm(x,(h0,c0))\n",
        "    out=self.fc(out[:,-1,:])\n",
        "    return out\n",
        "\n",
        "model=RNN(input_size,hidden_size,num_layers,num_classes).to(device)\n",
        "\n",
        "\n"
      ],
      "metadata": {
        "id": "nFmDKkeZI5E6"
      },
      "execution_count": 4,
      "outputs": []
    },
    {
      "cell_type": "code",
      "source": [
        "\n",
        "# Loss and optimizer\n",
        "criterion = nn.CrossEntropyLoss()\n",
        "optimizer = torch.optim.Adam(model.parameters(), lr=learning_rate)\n",
        "\n",
        "# Train the model\n",
        "total_step = len(train_dataloader)\n",
        "for epoch in range(num_epochs):\n",
        "    for i, (images, labels) in enumerate(train_dataloader):\n",
        "        images = images.reshape(-1, sequence_length, input_size).to(device)\n",
        "        labels = labels.to(device)\n",
        "\n",
        "        # Forward pass\n",
        "        outputs = model(images)\n",
        "        loss = criterion(outputs, labels)\n",
        "\n",
        "        # Backward and optimize\n",
        "        optimizer.zero_grad()\n",
        "        loss.backward()\n",
        "        optimizer.step()\n",
        "\n",
        "        if (i+1) % 100 == 0:\n",
        "            print ('Epoch [{}/{}], Step [{}/{}], Loss: {:.4f}'\n",
        "                   .format(epoch+1, num_epochs, i+1, total_step, loss.item()))\n",
        "\n",
        "# Test the model\n",
        "model.eval()\n",
        "with torch.no_grad():\n",
        "    correct = 0\n",
        "    total = 0\n",
        "    for images, labels in test_dataloader:\n",
        "        images = images.reshape(-1, sequence_length, input_size).to(device)\n",
        "        labels = labels.to(device)\n",
        "        outputs = model(images)\n",
        "        _, predicted = torch.max(outputs.data, 1)\n",
        "        total += labels.size(0)\n",
        "        correct += (predicted == labels).sum().item()\n",
        "\n",
        "    print('Test Accuracy of the model on the 10000 test images: {} %'.format(100 * correct / total))\n",
        "\n",
        "# Save the model checkpoint\n",
        "torch.save(model.state_dict(), 'model.ckpt')"
      ],
      "metadata": {
        "colab": {
          "base_uri": "https://localhost:8080/"
        },
        "id": "bwN7oAyiWPRc",
        "outputId": "e4795d2a-5798-4e8e-d809-736a7f40dfca"
      },
      "execution_count": 5,
      "outputs": [
        {
          "output_type": "stream",
          "name": "stdout",
          "text": [
            "Epoch [1/2], Step [100/600], Loss: 0.4447\n",
            "Epoch [1/2], Step [200/600], Loss: 0.2529\n",
            "Epoch [1/2], Step [300/600], Loss: 0.0942\n",
            "Epoch [1/2], Step [400/600], Loss: 0.2318\n",
            "Epoch [1/2], Step [500/600], Loss: 0.1947\n",
            "Epoch [1/2], Step [600/600], Loss: 0.1197\n",
            "Epoch [2/2], Step [100/600], Loss: 0.1343\n",
            "Epoch [2/2], Step [200/600], Loss: 0.0651\n",
            "Epoch [2/2], Step [300/600], Loss: 0.1215\n",
            "Epoch [2/2], Step [400/600], Loss: 0.0376\n",
            "Epoch [2/2], Step [500/600], Loss: 0.0987\n",
            "Epoch [2/2], Step [600/600], Loss: 0.0327\n",
            "Test Accuracy of the model on the 10000 test images: 97.27 %\n"
          ]
        }
      ]
    }
  ]
}